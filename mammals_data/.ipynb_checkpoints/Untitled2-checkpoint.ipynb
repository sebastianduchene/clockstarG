{
 "metadata": {
  "name": "",
  "signature": "sha256:73b0bf166d1aa792455814ba8220178882ca9f3ef6cf4ba4bbd48d0b833c7496"
 },
 "nbformat": 3,
 "nbformat_minor": 0,
 "worksheets": []
}