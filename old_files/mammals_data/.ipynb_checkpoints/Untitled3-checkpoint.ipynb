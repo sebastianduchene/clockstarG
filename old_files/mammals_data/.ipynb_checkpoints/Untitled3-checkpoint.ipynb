{
 "metadata": {
  "name": "",
  "signature": "sha256:1707553d5ed018143a7da49d1806dc7db63918c760b3133bd90fba9cb740d836"
 },
 "nbformat": 3,
 "nbformat_minor": 0,
 "worksheets": [
  {
   "cells": [
    {
     "cell_type": "code",
     "collapsed": false,
     "input": [
      "import os, sys, re, subprocess\n",
      "import pandas as pd\n",
      "import numpy as np\n",
      "import matplotlib.pyplot as plt"
     ],
     "language": "python",
     "metadata": {},
     "outputs": [],
     "prompt_number": 106
    },
    {
     "cell_type": "code",
     "collapsed": false,
     "input": [
      "%ls"
     ],
     "language": "python",
     "metadata": {},
     "outputs": [
      {
       "output_type": "stream",
       "stream": "stdout",
       "text": [
        "Untitled0.ipynb          classification_data.csv  get_tree_stats.R         test_svm.R~\r\n",
        "Untitled1.ipynb          cluster_gene_info.txt    get_tree_stats.R~        tree_stats.csv\r\n",
        "Untitled2.ipynb          eig_mds.txt              lin_models.R             upm_plots.pdf\r\n",
        "Untitled3.ipynb          \u001b[34mempirical_data\u001b[m\u001b[m/          lin_models.R~            \u001b[34mupm_simulations\u001b[m\u001b[m/\r\n",
        "class_tree.R             fill_sbsdout.txt         plots_mpm.R              upm_summary_results.pdf\r\n",
        "class_tree.R~            gene_length_bfs.txt      plots_mpm.R~\r\n"
       ]
      }
     ],
     "prompt_number": 107
    },
    {
     "cell_type": "code",
     "collapsed": false,
     "input": [
      "class_data = pd.read_csv('classification_data.csv', index_col=0)"
     ],
     "language": "python",
     "metadata": {},
     "outputs": [],
     "prompt_number": 108
    },
    {
     "cell_type": "code",
     "collapsed": false,
     "input": [
      "class_data.head() "
     ],
     "language": "python",
     "metadata": {},
     "outputs": [
      {
       "html": [
        "<div style=\"max-height:1000px;max-width:1500px;overflow:auto;\">\n",
        "<table border=\"1\" class=\"dataframe\">\n",
        "  <thead>\n",
        "    <tr style=\"text-align: right;\">\n",
        "      <th></th>\n",
        "      <th>length</th>\n",
        "      <th>A</th>\n",
        "      <th>C</th>\n",
        "      <th>G</th>\n",
        "      <th>T</th>\n",
        "      <th>cluster</th>\n",
        "      <th>chromosome</th>\n",
        "      <th>gene_name</th>\n",
        "      <th>tree_length</th>\n",
        "      <th>tree_cv</th>\n",
        "      <th>cg_content</th>\n",
        "    </tr>\n",
        "  </thead>\n",
        "  <tbody>\n",
        "    <tr>\n",
        "      <th>gene1.fasta</th>\n",
        "      <td> 5794</td>\n",
        "      <td> 0.268250</td>\n",
        "      <td> 0.269508</td>\n",
        "      <td> 0.252531</td>\n",
        "      <td> 0.209711</td>\n",
        "      <td> CLUSTER1</td>\n",
        "      <td> 14</td>\n",
        "      <td> SIPA1L1</td>\n",
        "      <td> 1.485098</td>\n",
        "      <td> 0.993081</td>\n",
        "      <td> 0.973045</td>\n",
        "    </tr>\n",
        "    <tr>\n",
        "      <th>gene10.fasta</th>\n",
        "      <td> 2175</td>\n",
        "      <td> 0.268476</td>\n",
        "      <td> 0.224594</td>\n",
        "      <td> 0.254347</td>\n",
        "      <td> 0.252583</td>\n",
        "      <td> CLUSTER2</td>\n",
        "      <td>  9</td>\n",
        "      <td>     GNE</td>\n",
        "      <td> 1.123666</td>\n",
        "      <td> 0.986122</td>\n",
        "      <td> 0.891962</td>\n",
        "    </tr>\n",
        "    <tr>\n",
        "      <th>gene100.fasta</th>\n",
        "      <td> 1908</td>\n",
        "      <td> 0.300454</td>\n",
        "      <td> 0.238527</td>\n",
        "      <td> 0.258440</td>\n",
        "      <td> 0.202579</td>\n",
        "      <td> CLUSTER3</td>\n",
        "      <td>  3</td>\n",
        "      <td>   PEX5L</td>\n",
        "      <td> 1.190232</td>\n",
        "      <td> 0.920258</td>\n",
        "      <td> 0.827026</td>\n",
        "    </tr>\n",
        "    <tr>\n",
        "      <th>gene101.fasta</th>\n",
        "      <td> 1540</td>\n",
        "      <td> 0.306386</td>\n",
        "      <td> 0.210569</td>\n",
        "      <td> 0.232906</td>\n",
        "      <td> 0.250139</td>\n",
        "      <td> CLUSTER4</td>\n",
        "      <td>  6</td>\n",
        "      <td>   Tinag</td>\n",
        "      <td> 1.855120</td>\n",
        "      <td> 1.107489</td>\n",
        "      <td> 0.723719</td>\n",
        "    </tr>\n",
        "    <tr>\n",
        "      <th>gene102.fasta</th>\n",
        "      <td> 2031</td>\n",
        "      <td> 0.310656</td>\n",
        "      <td> 0.198478</td>\n",
        "      <td> 0.237539</td>\n",
        "      <td> 0.253326</td>\n",
        "      <td> CLUSTER2</td>\n",
        "      <td>  1</td>\n",
        "      <td> DYNC1I2</td>\n",
        "      <td> 0.815587</td>\n",
        "      <td> 1.013724</td>\n",
        "      <td> 0.701768</td>\n",
        "    </tr>\n",
        "  </tbody>\n",
        "</table>\n",
        "<p>5 rows \u00d7 11 columns</p>\n",
        "</div>"
       ],
       "metadata": {},
       "output_type": "pyout",
       "prompt_number": 109,
       "text": [
        "               length         A         C         G         T   cluster  \\\n",
        "gene1.fasta      5794  0.268250  0.269508  0.252531  0.209711  CLUSTER1   \n",
        "gene10.fasta     2175  0.268476  0.224594  0.254347  0.252583  CLUSTER2   \n",
        "gene100.fasta    1908  0.300454  0.238527  0.258440  0.202579  CLUSTER3   \n",
        "gene101.fasta    1540  0.306386  0.210569  0.232906  0.250139  CLUSTER4   \n",
        "gene102.fasta    2031  0.310656  0.198478  0.237539  0.253326  CLUSTER2   \n",
        "\n",
        "               chromosome gene_name  tree_length   tree_cv  cg_content  \n",
        "gene1.fasta            14   SIPA1L1     1.485098  0.993081    0.973045  \n",
        "gene10.fasta            9       GNE     1.123666  0.986122    0.891962  \n",
        "gene100.fasta           3     PEX5L     1.190232  0.920258    0.827026  \n",
        "gene101.fasta           6     Tinag     1.855120  1.107489    0.723719  \n",
        "gene102.fasta           1   DYNC1I2     0.815587  1.013724    0.701768  \n",
        "\n",
        "[5 rows x 11 columns]"
       ]
      }
     ],
     "prompt_number": 109
    },
    {
     "cell_type": "code",
     "collapsed": false,
     "input": [
      "class_data.loc[:, 'tree_length'].hist(color = 'red')"
     ],
     "language": "python",
     "metadata": {},
     "outputs": [
      {
       "metadata": {},
       "output_type": "pyout",
       "prompt_number": 110,
       "text": [
        "<matplotlib.axes.AxesSubplot at 0x10b326450>"
       ]
      },
      {
       "metadata": {},
       "output_type": "display_data",
       "png": "[encoded data removed]",
       "text": [
        "<matplotlib.figure.Figure at 0x10b3414d0>"
       ]
      }
     ],
     "prompt_number": 110
    },
    {
     "cell_type": "code",
     "collapsed": false,
     "input": [
      "np.percentile(class_data.loc[:,'tree_length'], q = [5, 95])"
     ],
     "language": "python",
     "metadata": {},
     "outputs": [
      {
       "metadata": {},
       "output_type": "pyout",
       "prompt_number": 254,
       "text": [
        "[0.93288563812232006, 2.8575878097713598]"
       ]
      }
     ],
     "prompt_number": 254
    },
    {
     "cell_type": "code",
     "collapsed": false,
     "input": [
      "class_data_sorted = class_data.sort_index(by ='tree_length', ascending=False)"
     ],
     "language": "python",
     "metadata": {},
     "outputs": [],
     "prompt_number": 255
    },
    {
     "cell_type": "code",
     "collapsed": false,
     "input": [
      "tree_quantiles = array(list(pd.qcut(class_data_sorted.loc[:, 'tree_length'], q = 15, labels = range(15))))"
     ],
     "language": "python",
     "metadata": {},
     "outputs": [],
     "prompt_number": 356
    },
    {
     "cell_type": "code",
     "collapsed": false,
     "input": [
      "tree_quantiles = pd.DataFrame([str(i) for i in tree_quantiles])\n",
      "cluster_data = pd.DataFrame([str(i) for i in  class_data_sorted.ix[:, 'cluster']])"
     ],
     "language": "python",
     "metadata": {},
     "outputs": [],
     "prompt_number": 357
    },
    {
     "cell_type": "code",
     "collapsed": false,
     "input": [
      "clus_tree = pd.concat([tree_quantiles, cluster_data], axis = 1)"
     ],
     "language": "python",
     "metadata": {},
     "outputs": [],
     "prompt_number": 358
    },
    {
     "cell_type": "code",
     "collapsed": true,
     "input": [
      "clus_tree.columns = ['a', 'b']"
     ],
     "language": "python",
     "metadata": {},
     "outputs": [],
     "prompt_number": 359
    },
    {
     "cell_type": "code",
     "collapsed": false,
     "input": [
      "for i in [str(float(k)) for k in range(15)]:\n",
      "    print pd.Series(clus_tree.ix[clus_tree.ix[:, 0] == i, 1]).value_counts().shape"
     ],
     "language": "python",
     "metadata": {},
     "outputs": [
      {
       "output_type": "stream",
       "stream": "stdout",
       "text": [
        "(3,)\n",
        "(4,)\n",
        "(6,)\n",
        "(4,)\n",
        "(6,)\n",
        "(6,)\n",
        "(6,)\n",
        "(7,)\n",
        "(6,)\n",
        "(4,)\n",
        "(6,)\n",
        "(6,)\n",
        "(6,)\n",
        "(5,)\n",
        "(6,)\n"
       ]
      }
     ],
     "prompt_number": 360
    },
    {
     "cell_type": "code",
     "collapsed": false,
     "input": [
      "class_data_sorted.ix[20:30,:]"
     ],
     "language": "python",
     "metadata": {},
     "outputs": [
      {
       "html": [
        "<div style=\"max-height:1000px;max-width:1500px;overflow:auto;\">\n",
        "<table border=\"1\" class=\"dataframe\">\n",
        "  <thead>\n",
        "    <tr style=\"text-align: right;\">\n",
        "      <th></th>\n",
        "      <th>length</th>\n",
        "      <th>A</th>\n",
        "      <th>C</th>\n",
        "      <th>G</th>\n",
        "      <th>T</th>\n",
        "      <th>cluster</th>\n",
        "      <th>chromosome</th>\n",
        "      <th>gene_name</th>\n",
        "      <th>tree_length</th>\n",
        "      <th>tree_cv</th>\n",
        "      <th>cg_content</th>\n",
        "    </tr>\n",
        "  </thead>\n",
        "  <tbody>\n",
        "    <tr>\n",
        "      <th>gene369.fasta</th>\n",
        "      <td> 2842</td>\n",
        "      <td> 0.302419</td>\n",
        "      <td> 0.227221</td>\n",
        "      <td> 0.298798</td>\n",
        "      <td> 0.171562</td>\n",
        "      <td> CLUSTER6</td>\n",
        "      <td> 17</td>\n",
        "      <td>    Ttc25</td>\n",
        "      <td> 2.914032</td>\n",
        "      <td> 0.840710</td>\n",
        "      <td> 0.869687</td>\n",
        "    </tr>\n",
        "    <tr>\n",
        "      <th>gene429.fasta</th>\n",
        "      <td> 1704</td>\n",
        "      <td> 0.203239</td>\n",
        "      <td> 0.281309</td>\n",
        "      <td> 0.300520</td>\n",
        "      <td> 0.214932</td>\n",
        "      <td> CLUSTER6</td>\n",
        "      <td>  0</td>\n",
        "      <td>    CASP9</td>\n",
        "      <td> 2.886572</td>\n",
        "      <td> 0.813506</td>\n",
        "      <td> 1.431389</td>\n",
        "    </tr>\n",
        "    <tr>\n",
        "      <th>gene377.fasta</th>\n",
        "      <td> 1641</td>\n",
        "      <td> 0.276452</td>\n",
        "      <td> 0.231759</td>\n",
        "      <td> 0.228038</td>\n",
        "      <td> 0.263751</td>\n",
        "      <td> CLUSTER6</td>\n",
        "      <td> 10</td>\n",
        "      <td>   ENTPD1</td>\n",
        "      <td> 2.858487</td>\n",
        "      <td> 0.959187</td>\n",
        "      <td> 0.831603</td>\n",
        "    </tr>\n",
        "    <tr>\n",
        "      <th>gene312.fasta</th>\n",
        "      <td> 2232</td>\n",
        "      <td> 0.302479</td>\n",
        "      <td> 0.230382</td>\n",
        "      <td> 0.259902</td>\n",
        "      <td> 0.207237</td>\n",
        "      <td> CLUSTER6</td>\n",
        "      <td>  6</td>\n",
        "      <td>    RIPK1</td>\n",
        "      <td> 2.855490</td>\n",
        "      <td> 1.009337</td>\n",
        "      <td> 0.810443</td>\n",
        "    </tr>\n",
        "    <tr>\n",
        "      <th>gene338.fasta</th>\n",
        "      <td> 3190</td>\n",
        "      <td> 0.325854</td>\n",
        "      <td> 0.208152</td>\n",
        "      <td> 0.184417</td>\n",
        "      <td> 0.281576</td>\n",
        "      <td> CLUSTER8</td>\n",
        "      <td> 11</td>\n",
        "      <td> C11orf82</td>\n",
        "      <td> 2.827802</td>\n",
        "      <td> 0.956356</td>\n",
        "      <td> 0.602370</td>\n",
        "    </tr>\n",
        "    <tr>\n",
        "      <th>gene35.fasta</th>\n",
        "      <td> 1561</td>\n",
        "      <td> 0.299573</td>\n",
        "      <td> 0.209408</td>\n",
        "      <td> 0.208764</td>\n",
        "      <td> 0.282255</td>\n",
        "      <td> CLUSTER6</td>\n",
        "      <td>  7</td>\n",
        "      <td>   CYP7B1</td>\n",
        "      <td> 2.782463</td>\n",
        "      <td> 0.889069</td>\n",
        "      <td> 0.697947</td>\n",
        "    </tr>\n",
        "    <tr>\n",
        "      <th>gene387.fasta</th>\n",
        "      <td> 3927</td>\n",
        "      <td> 0.280983</td>\n",
        "      <td> 0.248985</td>\n",
        "      <td> 0.258158</td>\n",
        "      <td> 0.211874</td>\n",
        "      <td> CLUSTER6</td>\n",
        "      <td>  9</td>\n",
        "      <td>    FOXE1</td>\n",
        "      <td> 2.761118</td>\n",
        "      <td> 0.916314</td>\n",
        "      <td> 0.902443</td>\n",
        "    </tr>\n",
        "    <tr>\n",
        "      <th>gene205.fasta</th>\n",
        "      <td> 4326</td>\n",
        "      <td> 0.279395</td>\n",
        "      <td> 0.302605</td>\n",
        "      <td> 0.239882</td>\n",
        "      <td> 0.178118</td>\n",
        "      <td> CLUSTER3</td>\n",
        "      <td>  1</td>\n",
        "      <td>     AFF1</td>\n",
        "      <td> 2.729993</td>\n",
        "      <td> 1.183946</td>\n",
        "      <td> 0.970824</td>\n",
        "    </tr>\n",
        "    <tr>\n",
        "      <th>gene442.fasta</th>\n",
        "      <td> 5471</td>\n",
        "      <td> 0.284401</td>\n",
        "      <td> 0.249178</td>\n",
        "      <td> 0.256097</td>\n",
        "      <td> 0.210323</td>\n",
        "      <td> CLUSTER6</td>\n",
        "      <td>  0</td>\n",
        "      <td>   Sphkap</td>\n",
        "      <td> 2.694587</td>\n",
        "      <td> 0.903084</td>\n",
        "      <td> 0.888314</td>\n",
        "    </tr>\n",
        "    <tr>\n",
        "      <th>gene3.fasta</th>\n",
        "      <td> 3199</td>\n",
        "      <td> 0.330176</td>\n",
        "      <td> 0.241387</td>\n",
        "      <td> 0.269702</td>\n",
        "      <td> 0.158735</td>\n",
        "      <td> CLUSTER6</td>\n",
        "      <td>  6</td>\n",
        "      <td>    TXLNB</td>\n",
        "      <td> 2.655542</td>\n",
        "      <td> 0.850564</td>\n",
        "      <td> 0.773964</td>\n",
        "    </tr>\n",
        "  </tbody>\n",
        "</table>\n",
        "<p>10 rows \u00d7 11 columns</p>\n",
        "</div>"
       ],
       "metadata": {},
       "output_type": "pyout",
       "prompt_number": 295,
       "text": [
        "               length         A         C         G         T   cluster  \\\n",
        "gene369.fasta    2842  0.302419  0.227221  0.298798  0.171562  CLUSTER6   \n",
        "gene429.fasta    1704  0.203239  0.281309  0.300520  0.214932  CLUSTER6   \n",
        "gene377.fasta    1641  0.276452  0.231759  0.228038  0.263751  CLUSTER6   \n",
        "gene312.fasta    2232  0.302479  0.230382  0.259902  0.207237  CLUSTER6   \n",
        "gene338.fasta    3190  0.325854  0.208152  0.184417  0.281576  CLUSTER8   \n",
        "gene35.fasta     1561  0.299573  0.209408  0.208764  0.282255  CLUSTER6   \n",
        "gene387.fasta    3927  0.280983  0.248985  0.258158  0.211874  CLUSTER6   \n",
        "gene205.fasta    4326  0.279395  0.302605  0.239882  0.178118  CLUSTER3   \n",
        "gene442.fasta    5471  0.284401  0.249178  0.256097  0.210323  CLUSTER6   \n",
        "gene3.fasta      3199  0.330176  0.241387  0.269702  0.158735  CLUSTER6   \n",
        "\n",
        "               chromosome gene_name  tree_length   tree_cv  cg_content  \n",
        "gene369.fasta          17     Ttc25     2.914032  0.840710    0.869687  \n",
        "gene429.fasta           0     CASP9     2.886572  0.813506    1.431389  \n",
        "gene377.fasta          10    ENTPD1     2.858487  0.959187    0.831603  \n",
        "gene312.fasta           6     RIPK1     2.855490  1.009337    0.810443  \n",
        "gene338.fasta          11  C11orf82     2.827802  0.956356    0.602370  \n",
        "gene35.fasta            7    CYP7B1     2.782463  0.889069    0.697947  \n",
        "gene387.fasta           9     FOXE1     2.761118  0.916314    0.902443  \n",
        "gene205.fasta           1      AFF1     2.729993  1.183946    0.970824  \n",
        "gene442.fasta           0    Sphkap     2.694587  0.903084    0.888314  \n",
        "gene3.fasta             6     TXLNB     2.655542  0.850564    0.773964  \n",
        "\n",
        "[10 rows x 11 columns]"
       ]
      }
     ],
     "prompt_number": 295
    },
    {
     "cell_type": "code",
     "collapsed": false,
     "input": [
      "clus_tree.ix[clus_tree.ix[:, 0] == '3.0', 1].value_counts().shape"
     ],
     "language": "python",
     "metadata": {},
     "outputs": [
      {
       "metadata": {},
       "output_type": "pyout",
       "prompt_number": 268,
       "text": [
        "(8,)"
       ]
      }
     ],
     "prompt_number": 268
    },
    {
     "cell_type": "code",
     "collapsed": false,
     "input": [],
     "language": "python",
     "metadata": {},
     "outputs": []
    }
   ],
   "metadata": {}
  }
 ]
}