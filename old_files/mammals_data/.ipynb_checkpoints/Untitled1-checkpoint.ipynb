{
 "metadata": {
  "name": "",
  "signature": "sha256:9e5bc792b1bea810beb399398207a1b34bf58f80fdcb11b9d805ff55ec4a1be0"
 },
 "nbformat": 3,
 "nbformat_minor": 0,
 "worksheets": [
  {
   "cells": [
    {
     "cell_type": "code",
     "collapsed": false,
     "input": [
      "import pandas as pd\n",
      "import sys, os, re\n",
      "import numpy as np\n",
      "import matplotlib.pyplot as plt\n"
     ],
     "language": "python",
     "metadata": {},
     "outputs": [],
     "prompt_number": 157
    },
    {
     "cell_type": "code",
     "collapsed": false,
     "input": [
      "os.getcwdu()"
     ],
     "language": "python",
     "metadata": {},
     "outputs": [
      {
       "metadata": {},
       "output_type": "pyout",
       "prompt_number": 158,
       "text": [
        "u'/Users/sebastianduchene/Desktop/clockstarg/clockstarG/mammals_data'"
       ]
      }
     ],
     "prompt_number": 158
    },
    {
     "cell_type": "markdown",
     "metadata": {},
     "source": [
      "## Load the clustering info"
     ]
    },
    {
     "cell_type": "code",
     "collapsed": false,
     "input": [
      "clus_info = open('cluster_gene_info.txt', 'r').readlines()"
     ],
     "language": "python",
     "metadata": {},
     "outputs": [],
     "prompt_number": 160
    },
    {
     "cell_type": "code",
     "collapsed": false,
     "input": [
      "clus_data = []\n",
      "for i in range(len(clus_info)):\n",
      "    clus_temp = array(re.split(r'@|,', clus_info[i])) \n",
      "    clus_data.append(clus_temp[[1, 0, 7, 5]])\n",
      "clus_data = array(clus_data)"
     ],
     "language": "python",
     "metadata": {},
     "outputs": [],
     "prompt_number": 253
    },
    {
     "cell_type": "code",
     "collapsed": false,
     "input": [
      "for i in range(shape(clus_data)[0]):\n",
      "    clus_data[i, 0] = clus_data[i, 0]+\".fasta\""
     ],
     "language": "python",
     "metadata": {},
     "outputs": [],
     "prompt_number": 254
    },
    {
     "cell_type": "code",
     "collapsed": false,
     "input": [
      "clus_data[1]"
     ],
     "language": "python",
     "metadata": {},
     "outputs": [
      {
       "metadata": {},
       "output_type": "pyout",
       "prompt_number": 255,
       "text": [
        "array(['gene107.fasta', 'CLUSTER1', 'chromosome 10 alternate HuRef', 'CREM'], \n",
        "      dtype='|S804')"
       ]
      }
     ],
     "prompt_number": 255
    },
    {
     "cell_type": "code",
     "collapsed": false,
     "input": [
      "clus_frame = pd.DataFrame(clus_data[:, range(1, 4)], index = clus_data[:, 0], columns=['cluster', 'chromosome', 'genename'])"
     ],
     "language": "python",
     "metadata": {},
     "outputs": [],
     "prompt_number": 288
    },
    {
     "cell_type": "code",
     "collapsed": false,
     "input": [],
     "language": "python",
     "metadata": {},
     "outputs": [],
     "prompt_number": 412
    },
    {
     "cell_type": "markdown",
     "metadata": {},
     "source": [
      "The clustering data are loaded and they contain the chromosome location and the clustering for every gene"
     ]
    },
    {
     "cell_type": "markdown",
     "metadata": {},
     "source": [
      "## Load the table with the sequence lengths and the base frequencies"
     ]
    },
    {
     "cell_type": "code",
     "collapsed": false,
     "input": [
      "gene_data = open('gene_length_bfs.txt', 'r').readlines()"
     ],
     "language": "python",
     "metadata": {},
     "outputs": [],
     "prompt_number": 413
    },
    {
     "cell_type": "code",
     "collapsed": false,
     "input": [
      "gene_data = [re.sub(r'\"|\\n', '', i) for i in gene_data]"
     ],
     "language": "python",
     "metadata": {},
     "outputs": [],
     "prompt_number": 414
    },
    {
     "cell_type": "code",
     "collapsed": false,
     "input": [],
     "language": "python",
     "metadata": {},
     "outputs": [],
     "prompt_number": 414
    },
    {
     "cell_type": "code",
     "collapsed": false,
     "input": [
      "gene_dat_split = []\n",
      "for i in range(1, len(gene_data)):\n",
      "    gene_dat_split.append(re.split(',', gene_data[i]))\n",
      "gene_dat_split = array(gene_dat_split)"
     ],
     "language": "python",
     "metadata": {},
     "outputs": [],
     "prompt_number": 415
    },
    {
     "cell_type": "code",
     "collapsed": false,
     "input": [
      "gene_frame = pd.DataFrame(gene_dat_split[:, 1:], index = gene_dat_split[:, 0], columns=['length', 'A', 'C', 'G', 'T'])"
     ],
     "language": "python",
     "metadata": {},
     "outputs": [],
     "prompt_number": 416
    },
    {
     "cell_type": "code",
     "collapsed": false,
     "input": [],
     "language": "python",
     "metadata": {},
     "outputs": [],
     "prompt_number": 472
    },
    {
     "cell_type": "code",
     "collapsed": false,
     "input": [],
     "language": "python",
     "metadata": {},
     "outputs": [],
     "prompt_number": 417
    },
    {
     "cell_type": "markdown",
     "metadata": {},
     "source": [
      "## Join the tables on the gene names"
     ]
    },
    {
     "cell_type": "code",
     "collapsed": false,
     "input": [
      "dat_concat = pd.concat([gene_frame, clus_frame], axis = 1)"
     ],
     "language": "python",
     "metadata": {},
     "outputs": [],
     "prompt_number": 418
    },
    {
     "cell_type": "code",
     "collapsed": false,
     "input": [
      "dat_concat.head()"
     ],
     "language": "python",
     "metadata": {},
     "outputs": [
      {
       "html": [
        "<div style=\"max-height:1000px;max-width:1500px;overflow:auto;\">\n",
        "<table border=\"1\" class=\"dataframe\">\n",
        "  <thead>\n",
        "    <tr style=\"text-align: right;\">\n",
        "      <th></th>\n",
        "      <th>length</th>\n",
        "      <th>A</th>\n",
        "      <th>C</th>\n",
        "      <th>G</th>\n",
        "      <th>T</th>\n",
        "      <th>cluster</th>\n",
        "      <th>chromosome</th>\n",
        "      <th>genename</th>\n",
        "    </tr>\n",
        "  </thead>\n",
        "  <tbody>\n",
        "    <tr>\n",
        "      <th>gene1.fasta</th>\n",
        "      <td> 5794</td>\n",
        "      <td>  0.26825018076645</td>\n",
        "      <td> 0.269508315256688</td>\n",
        "      <td> 0.252530730296457</td>\n",
        "      <td> 0.209710773680405</td>\n",
        "      <td> CLUSTER1</td>\n",
        "      <td> chromosome 14 alternate HuRef</td>\n",
        "      <td> SIPA1L1</td>\n",
        "    </tr>\n",
        "    <tr>\n",
        "      <th>gene10.fasta</th>\n",
        "      <td> 2175</td>\n",
        "      <td>  0.26847618704777</td>\n",
        "      <td> 0.224594117858814</td>\n",
        "      <td> 0.254346808740415</td>\n",
        "      <td>    0.252582886353</td>\n",
        "      <td> CLUSTER2</td>\n",
        "      <td>  chromosome 9 alternate HuRef</td>\n",
        "      <td>     GNE</td>\n",
        "    </tr>\n",
        "    <tr>\n",
        "      <th>gene100.fasta</th>\n",
        "      <td> 1908</td>\n",
        "      <td> 0.300453982666116</td>\n",
        "      <td> 0.238526619892695</td>\n",
        "      <td> 0.258439950474618</td>\n",
        "      <td>  0.20257944696657</td>\n",
        "      <td> CLUSTER3</td>\n",
        "      <td>  chromosome 3 alternate HuRef</td>\n",
        "      <td>   PEX5L</td>\n",
        "    </tr>\n",
        "    <tr>\n",
        "      <th>gene101.fasta</th>\n",
        "      <td> 1540</td>\n",
        "      <td> 0.306385945343001</td>\n",
        "      <td> 0.210568878973787</td>\n",
        "      <td> 0.232905744562186</td>\n",
        "      <td> 0.250139431121026</td>\n",
        "      <td> CLUSTER4</td>\n",
        "      <td>  chromosome 6 alternate HuRef</td>\n",
        "      <td>   Tinag</td>\n",
        "    </tr>\n",
        "    <tr>\n",
        "      <th>gene102.fasta</th>\n",
        "      <td> 2031</td>\n",
        "      <td> 0.310656304675103</td>\n",
        "      <td>  0.19847825202425</td>\n",
        "      <td> 0.237539162631729</td>\n",
        "      <td> 0.253326280668918</td>\n",
        "      <td> CLUSTER2</td>\n",
        "      <td>                 cytoplasmic 1</td>\n",
        "      <td> DYNC1I2</td>\n",
        "    </tr>\n",
        "  </tbody>\n",
        "</table>\n",
        "<p>5 rows \u00d7 8 columns</p>\n",
        "</div>"
       ],
       "metadata": {},
       "output_type": "pyout",
       "prompt_number": 419,
       "text": [
        "              length                  A                  C                  G  \\\n",
        "gene1.fasta     5794   0.26825018076645  0.269508315256688  0.252530730296457   \n",
        "gene10.fasta    2175   0.26847618704777  0.224594117858814  0.254346808740415   \n",
        "gene100.fasta   1908  0.300453982666116  0.238526619892695  0.258439950474618   \n",
        "gene101.fasta   1540  0.306385945343001  0.210568878973787  0.232905744562186   \n",
        "gene102.fasta   2031  0.310656304675103   0.19847825202425  0.237539162631729   \n",
        "\n",
        "                               T   cluster                     chromosome  \\\n",
        "gene1.fasta    0.209710773680405  CLUSTER1  chromosome 14 alternate HuRef   \n",
        "gene10.fasta      0.252582886353  CLUSTER2   chromosome 9 alternate HuRef   \n",
        "gene100.fasta   0.20257944696657  CLUSTER3   chromosome 3 alternate HuRef   \n",
        "gene101.fasta  0.250139431121026  CLUSTER4   chromosome 6 alternate HuRef   \n",
        "gene102.fasta  0.253326280668918  CLUSTER2                  cytoplasmic 1   \n",
        "\n",
        "              genename  \n",
        "gene1.fasta    SIPA1L1  \n",
        "gene10.fasta       GNE  \n",
        "gene100.fasta    PEX5L  \n",
        "gene101.fasta    Tinag  \n",
        "gene102.fasta  DYNC1I2  \n",
        "\n",
        "[5 rows x 8 columns]"
       ]
      }
     ],
     "prompt_number": 419
    },
    {
     "cell_type": "markdown",
     "metadata": {},
     "source": [
      "## Load the tree data"
     ]
    },
    {
     "cell_type": "code",
     "collapsed": false,
     "input": [
      "tree_stats = pd.read_csv('tree_stats.csv', sep = ',')"
     ],
     "language": "python",
     "metadata": {},
     "outputs": [],
     "prompt_number": 420
    },
    {
     "cell_type": "code",
     "collapsed": false,
     "input": [
      "tree_stats.head()"
     ],
     "language": "python",
     "metadata": {},
     "outputs": [
      {
       "html": [
        "<div style=\"max-height:1000px;max-width:1500px;overflow:auto;\">\n",
        "<table border=\"1\" class=\"dataframe\">\n",
        "  <thead>\n",
        "    <tr style=\"text-align: right;\">\n",
        "      <th></th>\n",
        "      <th>tree_length</th>\n",
        "      <th>tree_cv</th>\n",
        "    </tr>\n",
        "  </thead>\n",
        "  <tbody>\n",
        "    <tr>\n",
        "      <th>gene1.fasta</th>\n",
        "      <td> 1.485098</td>\n",
        "      <td> 0.993081</td>\n",
        "    </tr>\n",
        "    <tr>\n",
        "      <th>gene10.fasta</th>\n",
        "      <td> 1.123666</td>\n",
        "      <td> 0.986122</td>\n",
        "    </tr>\n",
        "    <tr>\n",
        "      <th>gene100.fasta</th>\n",
        "      <td> 1.190232</td>\n",
        "      <td> 0.920258</td>\n",
        "    </tr>\n",
        "    <tr>\n",
        "      <th>gene101.fasta</th>\n",
        "      <td> 1.855120</td>\n",
        "      <td> 1.107489</td>\n",
        "    </tr>\n",
        "    <tr>\n",
        "      <th>gene102.fasta</th>\n",
        "      <td> 0.815587</td>\n",
        "      <td> 1.013724</td>\n",
        "    </tr>\n",
        "  </tbody>\n",
        "</table>\n",
        "<p>5 rows \u00d7 2 columns</p>\n",
        "</div>"
       ],
       "metadata": {},
       "output_type": "pyout",
       "prompt_number": 421,
       "text": [
        "               tree_length   tree_cv\n",
        "gene1.fasta       1.485098  0.993081\n",
        "gene10.fasta      1.123666  0.986122\n",
        "gene100.fasta     1.190232  0.920258\n",
        "gene101.fasta     1.855120  1.107489\n",
        "gene102.fasta     0.815587  1.013724\n",
        "\n",
        "[5 rows x 2 columns]"
       ]
      }
     ],
     "prompt_number": 421
    },
    {
     "cell_type": "markdown",
     "metadata": {},
     "source": [
      "## Concatenate all data sets on the gene names"
     ]
    },
    {
     "cell_type": "code",
     "collapsed": false,
     "input": [
      "concat_classify = pd.concat([dat_concat, tree_stats], axis = 1)"
     ],
     "language": "python",
     "metadata": {},
     "outputs": [],
     "prompt_number": 528
    },
    {
     "cell_type": "code",
     "collapsed": false,
     "input": [
      "concat_classify.keys()"
     ],
     "language": "python",
     "metadata": {},
     "outputs": [
      {
       "metadata": {},
       "output_type": "pyout",
       "prompt_number": 529,
       "text": [
        "Index([u'length', u'A', u'C', u'G', u'T', u'cluster', u'chromosome', u'genename', u'tree_length', u'tree_cv'], dtype='object')"
       ]
      }
     ],
     "prompt_number": 529
    },
    {
     "cell_type": "code",
     "collapsed": false,
     "input": [
      "concat_classify.ix[:,'tree_length'].hist()\n",
      "concat_classify.ix[:, 'tree_cv'].hist()"
     ],
     "language": "python",
     "metadata": {},
     "outputs": [
      {
       "metadata": {},
       "output_type": "pyout",
       "prompt_number": 530,
       "text": [
        "<matplotlib.axes.AxesSubplot at 0x10d6c9b90>"
       ]
      },
      {
       "metadata": {},
       "output_type": "display_data",
       "png": "[encoded data removed]",
       "text": [
        "<matplotlib.figure.Figure at 0x10d6a06d0>"
       ]
      }
     ],
     "prompt_number": 530
    },
    {
     "cell_type": "markdown",
     "metadata": {},
     "source": [
      "Convert ACGT to float"
     ]
    },
    {
     "cell_type": "code",
     "collapsed": false,
     "input": [],
     "language": "python",
     "metadata": {},
     "outputs": [],
     "prompt_number": 530
    },
    {
     "cell_type": "code",
     "collapsed": false,
     "input": [
      "concat_classify.ix[:,['A', 'C', 'G', 'T']] = concat_classify.ix[:, ['A', 'C', 'G', 'T']].convert_objects(convert_numeric = True)"
     ],
     "language": "python",
     "metadata": {},
     "outputs": [],
     "prompt_number": 531
    },
    {
     "cell_type": "code",
     "collapsed": false,
     "input": [
      "concat_classify.ix[1, 1]"
     ],
     "language": "python",
     "metadata": {},
     "outputs": [
      {
       "metadata": {},
       "output_type": "pyout",
       "prompt_number": 532,
       "text": [
        "0.26847618704776999"
       ]
      }
     ],
     "prompt_number": 532
    },
    {
     "cell_type": "code",
     "collapsed": false,
     "input": [
      "cg_cont = pd.DataFrame((concat_classify.ix[:, 'C'] + concat_classify.ix[:, 'G']) / (concat_classify.ix[:, 'A'] + concat_classify.ix[:, 'A']))"
     ],
     "language": "python",
     "metadata": {},
     "outputs": [],
     "prompt_number": 533
    },
    {
     "cell_type": "code",
     "collapsed": false,
     "input": [
      "classify_comp = pd.concat([concat_classify, cg_cont], axis = 1)"
     ],
     "language": "python",
     "metadata": {},
     "outputs": [],
     "prompt_number": 534
    },
    {
     "cell_type": "code",
     "collapsed": false,
     "input": [
      "classify_comp.columns = ['length', 'A', 'C', 'G', 'T', 'cluster', 'chromosome', 'gene_name', 'tree_length', 'tree_cv', 'cg_content']"
     ],
     "language": "python",
     "metadata": {},
     "outputs": [],
     "prompt_number": 535
    },
    {
     "cell_type": "code",
     "collapsed": false,
     "input": [
      "classify_comp.ix[:, 'cg_content'].hist()"
     ],
     "language": "python",
     "metadata": {},
     "outputs": [
      {
       "metadata": {},
       "output_type": "pyout",
       "prompt_number": 544,
       "text": [
        "<matplotlib.axes.AxesSubplot at 0x10de9d0d0>"
       ]
      },
      {
       "metadata": {},
       "output_type": "display_data",
       "png": "[encoded data removed]",
       "text": [
        "<matplotlib.figure.Figure at 0x10e02ffd0>"
       ]
      }
     ],
     "prompt_number": 544
    },
    {
     "cell_type": "code",
     "collapsed": false,
     "input": [
      "for i in range(shape(classify_comp)[0]):\n",
      "    try:    \n",
      "        dat_temp = re.sub(r'[a-z]|[A-Z]| |-', '', classify_comp.ix[i, 'chromosome'])\n",
      "        classify_comp.ix[i, 'chromosome'] \n",
      "        = int(dat_temp)\n",
      "    except:\n",
      "        classify_comp.ix[i, 'chromosome'] = 0"
     ],
     "language": "python",
     "metadata": {},
     "outputs": [],
     "prompt_number": 537
    },
    {
     "cell_type": "code",
     "collapsed": false,
     "input": [],
     "language": "python",
     "metadata": {},
     "outputs": [],
     "prompt_number": 538
    },
    {
     "cell_type": "code",
     "collapsed": false,
     "input": [],
     "language": "python",
     "metadata": {},
     "outputs": [],
     "prompt_number": 538
    },
    {
     "cell_type": "code",
     "collapsed": false,
     "input": [
      "\n",
      "classify_comp.to_csv('classification_data.csv', na_rep = 'NA')"
     ],
     "language": "python",
     "metadata": {},
     "outputs": [],
     "prompt_number": 539
    },
    {
     "cell_type": "code",
     "collapsed": false,
     "input": [],
     "language": "python",
     "metadata": {},
     "outputs": [],
     "prompt_number": 427
    },
    {
     "cell_type": "code",
     "collapsed": false,
     "input": [],
     "language": "python",
     "metadata": {},
     "outputs": []
    }
   ],
   "metadata": {}
  }
 ]
}