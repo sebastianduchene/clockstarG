{
 "metadata": {
  "name": "",
  "signature": "sha256:a634d2f5ae8154e05a31f2649ed41b46a4583a8556cc5940aeb58a177a403fcc"
 },
 "nbformat": 3,
 "nbformat_minor": 0,
 "worksheets": [
  {
   "cells": [
    {
     "cell_type": "code",
     "collapsed": false,
     "input": [
      "import sys, os, re, subprocess, copy\n",
      "import pandas as pd\n",
      "import numpy as np\n",
      "import matplotlib.pyplot as plt"
     ],
     "language": "python",
     "metadata": {},
     "outputs": [],
     "prompt_number": 175
    },
    {
     "cell_type": "code",
     "collapsed": false,
     "input": [
      "dat50 = pd.read_csv('cluster50.txt', header=0, sep = ' ')"
     ],
     "language": "python",
     "metadata": {},
     "outputs": [],
     "prompt_number": 89
    },
    {
     "cell_type": "code",
     "collapsed": false,
     "input": [
      "dat_class = pd.read_csv('classification_data.csv', header = 0, index_col=0)"
     ],
     "language": "python",
     "metadata": {},
     "outputs": [],
     "prompt_number": 100
    },
    {
     "cell_type": "code",
     "collapsed": false,
     "input": [
      "data_concat = pd.concat([dat_class, dat50], axis = 1)"
     ],
     "language": "python",
     "metadata": {},
     "outputs": [],
     "prompt_number": 101
    },
    {
     "cell_type": "code",
     "collapsed": false,
     "input": [
      "data_concat = data_concat.ix[pd.notnull(data_concat.ix[:, 'tree_length']), :]"
     ],
     "language": "python",
     "metadata": {},
     "outputs": [],
     "prompt_number": 102
    },
    {
     "cell_type": "code",
     "collapsed": false,
     "input": [
      "data_concat.ix[:, 'tree_length'] = pd.cut(data_concat.ix[:, 'tree_length'], 5)"
     ],
     "language": "python",
     "metadata": {},
     "outputs": [],
     "prompt_number": 103
    },
    {
     "cell_type": "code",
     "collapsed": false,
     "input": [
      "tree_quants = data_concat.ix[:, 'tree_length'].value_counts().index"
     ],
     "language": "python",
     "metadata": {},
     "outputs": [],
     "prompt_number": 104
    },
    {
     "cell_type": "code",
     "collapsed": false,
     "input": [
      "for i in tree_quants:\n",
      "    print \"for quantile %s\" %i\n",
      "    print len(data_concat.ix[data_concat.ix[:, 'tree_length'] == i, 'x'].value_counts())"
     ],
     "language": "python",
     "metadata": {},
     "outputs": [
      {
       "output_type": "stream",
       "stream": "stdout",
       "text": [
        "for quantile (1.114, 1.659]\n",
        "40\n",
        "for quantile (1.659, 2.204]\n",
        "28\n",
        "for quantile (0.566, 1.114]\n",
        "17\n",
        "for quantile (2.204, 2.749]\n",
        "18\n",
        "for quantile (2.749, 3.294]\n",
        "6\n"
       ]
      }
     ],
     "prompt_number": 105
    },
    {
     "cell_type": "code",
     "collapsed": false,
     "input": [
      "for i in tree_quants:\n",
      "    print \"for quantile %s\" %i\n",
      "    print sum(data_concat.ix[:, 'tree_length'] == i)"
     ],
     "language": "python",
     "metadata": {},
     "outputs": [
      {
       "output_type": "stream",
       "stream": "stdout",
       "text": [
        "for quantile (1.114, 1.659]\n",
        "204\n",
        "for quantile (1.659, 2.204]\n",
        "109\n",
        "for quantile (0.566, 1.114]\n",
        "64\n",
        "for quantile (2.204, 2.749]\n",
        "43\n",
        "for quantile (2.749, 3.294]\n",
        "11\n"
       ]
      }
     ],
     "prompt_number": 106
    },
    {
     "cell_type": "markdown",
     "metadata": {},
     "source": [
      "The best approach is to cut the trees into a number of groups:\n",
      "\n",
      "- Sort the trees and separate them data into equal numbers. In bins of 100, for example.\n",
      "\n",
      "- Get the ranges for each of the bins\n",
      "\n",
      "- Assign each tree to its corresponing bin\n",
      "\n",
      "- count the number of clusters in each bin"
     ]
    },
    {
     "cell_type": "code",
     "collapsed": false,
     "input": [
      "dat50 = pd.read_csv('cluster50.txt', header=0, sep = ' ')\n",
      "dat50.columns.values[0] = 'cluster50' "
     ],
     "language": "python",
     "metadata": {},
     "outputs": [],
     "prompt_number": 370
    },
    {
     "cell_type": "code",
     "collapsed": false,
     "input": [
      "dat_class = pd.read_csv('classification_data.csv', header = 0, index_col=0)"
     ],
     "language": "python",
     "metadata": {},
     "outputs": [],
     "prompt_number": 371
    },
    {
     "cell_type": "code",
     "collapsed": false,
     "input": [
      "data_concat = pd.concat([dat_class, dat50], axis = 1)"
     ],
     "language": "python",
     "metadata": {},
     "outputs": [],
     "prompt_number": 390
    },
    {
     "cell_type": "code",
     "collapsed": false,
     "input": [
      "data_concat = data_concat.ix[pd.notnull(data_concat.ix[:, 'tree_length']), :]"
     ],
     "language": "python",
     "metadata": {},
     "outputs": [],
     "prompt_number": 391
    },
    {
     "cell_type": "code",
     "collapsed": false,
     "input": [
      "trees_sorted = data_concat.sort(columns = 'tree_length').ix[:,'tree_length']"
     ],
     "language": "python",
     "metadata": {},
     "outputs": [],
     "prompt_number": 392
    },
    {
     "cell_type": "code",
     "collapsed": false,
     "input": [],
     "language": "python",
     "metadata": {},
     "outputs": [],
     "prompt_number": 392
    },
    {
     "cell_type": "code",
     "collapsed": false,
     "input": [
      "def get_trees_bins(sorted_trees, bins):\n",
      "    ranges_dat = []\n",
      "    i = 0\n",
      "    while i <= len(sorted_trees):\n",
      "        j = i + bins\n",
      "        ranges_dat.append([i, j])\n",
      "        i = j\n",
      "    if ranges_dat[-1][1] != len(sorted_trees):\n",
      "        ranges_dat[-1][1] = len(sorted_trees)\n",
      "    return ranges_dat"
     ],
     "language": "python",
     "metadata": {},
     "outputs": [],
     "prompt_number": 393
    },
    {
     "cell_type": "code",
     "collapsed": false,
     "input": [
      "tree_bins = get_trees_bins(trees_sorted, 50)"
     ],
     "language": "python",
     "metadata": {},
     "outputs": [],
     "prompt_number": 480
    },
    {
     "cell_type": "code",
     "collapsed": false,
     "input": [
      "tree_bins"
     ],
     "language": "python",
     "metadata": {},
     "outputs": [
      {
       "metadata": {},
       "output_type": "pyout",
       "prompt_number": 481,
       "text": [
        "[[0, 50],\n",
        " [50, 100],\n",
        " [100, 150],\n",
        " [150, 200],\n",
        " [200, 250],\n",
        " [250, 300],\n",
        " [300, 350],\n",
        " [350, 400],\n",
        " [400, 431]]"
       ]
      }
     ],
     "prompt_number": 481
    },
    {
     "cell_type": "code",
     "collapsed": false,
     "input": [
      "def get_tree_ranges(sorted_trees, tree_bins):\n",
      "    tree_len_ranges = []\n",
      "    for i,j in tree_bins:\n",
      "        tree_len_ranges.append([min(sorted_trees[i:j]), max(sorted_trees[i:j])])\n",
      "    return(tree_len_ranges)"
     ],
     "language": "python",
     "metadata": {},
     "outputs": [],
     "prompt_number": 482
    },
    {
     "cell_type": "code",
     "collapsed": false,
     "input": [
      "tree_ranges = get_tree_ranges(trees_sorted, tree_bins)"
     ],
     "language": "python",
     "metadata": {},
     "outputs": [],
     "prompt_number": 483
    },
    {
     "cell_type": "code",
     "collapsed": false,
     "input": [
      "tree_ranges"
     ],
     "language": "python",
     "metadata": {},
     "outputs": [
      {
       "metadata": {},
       "output_type": "pyout",
       "prompt_number": 484,
       "text": [
        "[[1.0, 1.0],\n",
        " [1.0, 2.0],\n",
        " [2.0, 3.0],\n",
        " [3.0, 3.0],\n",
        " [3.0, 4.0],\n",
        " [4.0, 5.0],\n",
        " [5.0, 5.0],\n",
        " [6.0, 6.0],\n",
        " [6.0, 7.0]]"
       ]
      }
     ],
     "prompt_number": 484
    },
    {
     "cell_type": "code",
     "collapsed": false,
     "input": [
      "trees_rank = copy.copy(trees_sorted)\n",
      "let = 1\n",
      "for i,j in tree_bins:\n",
      "    trees_rank[i:j] = let\n",
      "    let += 1"
     ],
     "language": "python",
     "metadata": {},
     "outputs": [],
     "prompt_number": 485
    },
    {
     "cell_type": "code",
     "collapsed": false,
     "input": [
      "trees_rank = pd.DataFrame(trees_rank)"
     ],
     "language": "python",
     "metadata": {},
     "outputs": [],
     "prompt_number": 486
    },
    {
     "cell_type": "code",
     "collapsed": false,
     "input": [
      "trees_rank.columns.values[0] = 'tree_rank'"
     ],
     "language": "python",
     "metadata": {},
     "outputs": [],
     "prompt_number": 487
    },
    {
     "cell_type": "code",
     "collapsed": false,
     "input": [
      "groups_concat = pd.concat([trees_rank, data_concat], axis = 1)"
     ],
     "language": "python",
     "metadata": {},
     "outputs": [],
     "prompt_number": 488
    },
    {
     "cell_type": "code",
     "collapsed": false,
     "input": [
      "groups_concat.head(10)"
     ],
     "language": "python",
     "metadata": {},
     "outputs": [
      {
       "html": [
        "<div style=\"max-height:1000px;max-width:1500px;overflow:auto;\">\n",
        "<table border=\"1\" class=\"dataframe\">\n",
        "  <thead>\n",
        "    <tr style=\"text-align: right;\">\n",
        "      <th></th>\n",
        "      <th>tree_rank</th>\n",
        "      <th>length</th>\n",
        "      <th>A</th>\n",
        "      <th>C</th>\n",
        "      <th>G</th>\n",
        "      <th>T</th>\n",
        "      <th>cluster</th>\n",
        "      <th>chromosome</th>\n",
        "      <th>gene_name</th>\n",
        "      <th>tree_length</th>\n",
        "      <th>tree_cv</th>\n",
        "      <th>cg_content</th>\n",
        "      <th>cluster50</th>\n",
        "    </tr>\n",
        "  </thead>\n",
        "  <tbody>\n",
        "    <tr>\n",
        "      <th>gene1.fasta</th>\n",
        "      <td> 5</td>\n",
        "      <td> 5794</td>\n",
        "      <td> 0.268250</td>\n",
        "      <td> 0.269508</td>\n",
        "      <td> 0.252531</td>\n",
        "      <td> 0.209711</td>\n",
        "      <td> CLUSTER1</td>\n",
        "      <td> 14</td>\n",
        "      <td> SIPA1L1</td>\n",
        "      <td> 1.485098</td>\n",
        "      <td> 0.993081</td>\n",
        "      <td> 0.973045</td>\n",
        "      <td> 1</td>\n",
        "    </tr>\n",
        "    <tr>\n",
        "      <th>gene10.fasta</th>\n",
        "      <td> 2</td>\n",
        "      <td> 2175</td>\n",
        "      <td> 0.268476</td>\n",
        "      <td> 0.224594</td>\n",
        "      <td> 0.254347</td>\n",
        "      <td> 0.252583</td>\n",
        "      <td> CLUSTER2</td>\n",
        "      <td>  9</td>\n",
        "      <td>     GNE</td>\n",
        "      <td> 1.123666</td>\n",
        "      <td> 0.986122</td>\n",
        "      <td> 0.891962</td>\n",
        "      <td> 2</td>\n",
        "    </tr>\n",
        "    <tr>\n",
        "      <th>gene100.fasta</th>\n",
        "      <td> 2</td>\n",
        "      <td> 1908</td>\n",
        "      <td> 0.300454</td>\n",
        "      <td> 0.238527</td>\n",
        "      <td> 0.258440</td>\n",
        "      <td> 0.202579</td>\n",
        "      <td> CLUSTER3</td>\n",
        "      <td>  3</td>\n",
        "      <td>   PEX5L</td>\n",
        "      <td> 1.190232</td>\n",
        "      <td> 0.920258</td>\n",
        "      <td> 0.827026</td>\n",
        "      <td> 3</td>\n",
        "    </tr>\n",
        "    <tr>\n",
        "      <th>gene101.fasta</th>\n",
        "      <td> 7</td>\n",
        "      <td> 1540</td>\n",
        "      <td> 0.306386</td>\n",
        "      <td> 0.210569</td>\n",
        "      <td> 0.232906</td>\n",
        "      <td> 0.250139</td>\n",
        "      <td> CLUSTER4</td>\n",
        "      <td>  6</td>\n",
        "      <td>   Tinag</td>\n",
        "      <td> 1.855120</td>\n",
        "      <td> 1.107489</td>\n",
        "      <td> 0.723719</td>\n",
        "      <td> 4</td>\n",
        "    </tr>\n",
        "    <tr>\n",
        "      <th>gene102.fasta</th>\n",
        "      <td> 1</td>\n",
        "      <td> 2031</td>\n",
        "      <td> 0.310656</td>\n",
        "      <td> 0.198478</td>\n",
        "      <td> 0.237539</td>\n",
        "      <td> 0.253326</td>\n",
        "      <td> CLUSTER2</td>\n",
        "      <td>  1</td>\n",
        "      <td> DYNC1I2</td>\n",
        "      <td> 0.815587</td>\n",
        "      <td> 1.013724</td>\n",
        "      <td> 0.701768</td>\n",
        "      <td> 5</td>\n",
        "    </tr>\n",
        "    <tr>\n",
        "      <th>gene103.fasta</th>\n",
        "      <td> 1</td>\n",
        "      <td> 2031</td>\n",
        "      <td> 0.310656</td>\n",
        "      <td> 0.198478</td>\n",
        "      <td> 0.237539</td>\n",
        "      <td> 0.253326</td>\n",
        "      <td> CLUSTER2</td>\n",
        "      <td>  1</td>\n",
        "      <td> DYNC1I2</td>\n",
        "      <td> 0.815587</td>\n",
        "      <td> 1.013724</td>\n",
        "      <td> 0.701768</td>\n",
        "      <td> 5</td>\n",
        "    </tr>\n",
        "    <tr>\n",
        "      <th>gene104.fasta</th>\n",
        "      <td> 7</td>\n",
        "      <td> 1166</td>\n",
        "      <td> 0.273694</td>\n",
        "      <td> 0.229468</td>\n",
        "      <td> 0.265356</td>\n",
        "      <td> 0.231482</td>\n",
        "      <td> CLUSTER5</td>\n",
        "      <td> 13</td>\n",
        "      <td>   Clybl</td>\n",
        "      <td> 1.819315</td>\n",
        "      <td> 1.058988</td>\n",
        "      <td> 0.903974</td>\n",
        "      <td> 6</td>\n",
        "    </tr>\n",
        "    <tr>\n",
        "      <th>gene105.fasta</th>\n",
        "      <td> 2</td>\n",
        "      <td> 3990</td>\n",
        "      <td> 0.297726</td>\n",
        "      <td> 0.211061</td>\n",
        "      <td> 0.243523</td>\n",
        "      <td> 0.247690</td>\n",
        "      <td> CLUSTER2</td>\n",
        "      <td>  7</td>\n",
        "      <td>  CADPS2</td>\n",
        "      <td> 1.095534</td>\n",
        "      <td> 0.967735</td>\n",
        "      <td> 0.763425</td>\n",
        "      <td> 7</td>\n",
        "    </tr>\n",
        "    <tr>\n",
        "      <th>gene106.fasta</th>\n",
        "      <td> 9</td>\n",
        "      <td> 1110</td>\n",
        "      <td> 0.301618</td>\n",
        "      <td> 0.217672</td>\n",
        "      <td> 0.237961</td>\n",
        "      <td> 0.242750</td>\n",
        "      <td> CLUSTER6</td>\n",
        "      <td> 20</td>\n",
        "      <td>   MGME1</td>\n",
        "      <td> 2.516832</td>\n",
        "      <td> 1.079058</td>\n",
        "      <td> 0.755314</td>\n",
        "      <td> 8</td>\n",
        "    </tr>\n",
        "    <tr>\n",
        "      <th>gene107.fasta</th>\n",
        "      <td> 2</td>\n",
        "      <td> 1053</td>\n",
        "      <td> 0.308041</td>\n",
        "      <td> 0.239842</td>\n",
        "      <td> 0.239597</td>\n",
        "      <td> 0.212521</td>\n",
        "      <td> CLUSTER1</td>\n",
        "      <td> 10</td>\n",
        "      <td>    CREM</td>\n",
        "      <td> 1.174948</td>\n",
        "      <td> 1.281026</td>\n",
        "      <td> 0.778205</td>\n",
        "      <td> 9</td>\n",
        "    </tr>\n",
        "  </tbody>\n",
        "</table>\n",
        "<p>10 rows \u00d7 13 columns</p>\n",
        "</div>"
       ],
       "metadata": {},
       "output_type": "pyout",
       "prompt_number": 489,
       "text": [
        "               tree_rank  length         A         C         G         T  \\\n",
        "gene1.fasta            5    5794  0.268250  0.269508  0.252531  0.209711   \n",
        "gene10.fasta           2    2175  0.268476  0.224594  0.254347  0.252583   \n",
        "gene100.fasta          2    1908  0.300454  0.238527  0.258440  0.202579   \n",
        "gene101.fasta          7    1540  0.306386  0.210569  0.232906  0.250139   \n",
        "gene102.fasta          1    2031  0.310656  0.198478  0.237539  0.253326   \n",
        "gene103.fasta          1    2031  0.310656  0.198478  0.237539  0.253326   \n",
        "gene104.fasta          7    1166  0.273694  0.229468  0.265356  0.231482   \n",
        "gene105.fasta          2    3990  0.297726  0.211061  0.243523  0.247690   \n",
        "gene106.fasta          9    1110  0.301618  0.217672  0.237961  0.242750   \n",
        "gene107.fasta          2    1053  0.308041  0.239842  0.239597  0.212521   \n",
        "\n",
        "                cluster  chromosome gene_name  tree_length   tree_cv  \\\n",
        "gene1.fasta    CLUSTER1          14   SIPA1L1     1.485098  0.993081   \n",
        "gene10.fasta   CLUSTER2           9       GNE     1.123666  0.986122   \n",
        "gene100.fasta  CLUSTER3           3     PEX5L     1.190232  0.920258   \n",
        "gene101.fasta  CLUSTER4           6     Tinag     1.855120  1.107489   \n",
        "gene102.fasta  CLUSTER2           1   DYNC1I2     0.815587  1.013724   \n",
        "gene103.fasta  CLUSTER2           1   DYNC1I2     0.815587  1.013724   \n",
        "gene104.fasta  CLUSTER5          13     Clybl     1.819315  1.058988   \n",
        "gene105.fasta  CLUSTER2           7    CADPS2     1.095534  0.967735   \n",
        "gene106.fasta  CLUSTER6          20     MGME1     2.516832  1.079058   \n",
        "gene107.fasta  CLUSTER1          10      CREM     1.174948  1.281026   \n",
        "\n",
        "               cg_content  cluster50  \n",
        "gene1.fasta      0.973045          1  \n",
        "gene10.fasta     0.891962          2  \n",
        "gene100.fasta    0.827026          3  \n",
        "gene101.fasta    0.723719          4  \n",
        "gene102.fasta    0.701768          5  \n",
        "gene103.fasta    0.701768          5  \n",
        "gene104.fasta    0.903974          6  \n",
        "gene105.fasta    0.763425          7  \n",
        "gene106.fasta    0.755314          8  \n",
        "gene107.fasta    0.778205          9  \n",
        "\n",
        "[10 rows x 13 columns]"
       ]
      }
     ],
     "prompt_number": 489
    },
    {
     "cell_type": "code",
     "collapsed": false,
     "input": [
      "groups_concat.ix[:, 'tree_length'].hist()"
     ],
     "language": "python",
     "metadata": {},
     "outputs": [
      {
       "metadata": {},
       "output_type": "pyout",
       "prompt_number": 490,
       "text": [
        "<matplotlib.axes.AxesSubplot at 0x10d31a0d0>"
       ]
      },
      {
       "metadata": {},
       "output_type": "display_data",
       "png": "[encoded data removed]",
       "text": [
        "<matplotlib.figure.Figure at 0x10d331390>"
       ]
      }
     ],
     "prompt_number": 490
    },
    {
     "cell_type": "code",
     "collapsed": false,
     "input": [
      "num_groups = []\n",
      "for i in groups_concat.ix[:, 'tree_rank'].value_counts().index:\n",
      "    num_groups.append([i, len(groups_concat.ix[groups_concat.ix[:, 'tree_rank'] == i, 'cluster50'].value_counts())])\n",
      "num_groups = array(num_groups)\n"
     ],
     "language": "python",
     "metadata": {},
     "outputs": [],
     "prompt_number": 491
    },
    {
     "cell_type": "code",
     "collapsed": false,
     "input": [
      "num_groups = pd.DataFrame(num_groups)"
     ],
     "language": "python",
     "metadata": {},
     "outputs": [],
     "prompt_number": 492
    },
    {
     "cell_type": "code",
     "collapsed": false,
     "input": [
      "plt.plot(num_groups.ix[:,0], num_groups.ix[:,1], 'bo')"
     ],
     "language": "python",
     "metadata": {},
     "outputs": [
      {
       "metadata": {},
       "output_type": "pyout",
       "prompt_number": 493,
       "text": [
        "[<matplotlib.lines.Line2D at 0x10d57e590>]"
       ]
      },
      {
       "metadata": {},
       "output_type": "display_data",
       "png": "[encoded data removed]",
       "text": [
        "<matplotlib.figure.Figure at 0x10d3a9f10>"
       ]
      }
     ],
     "prompt_number": 493
    },
    {
     "cell_type": "code",
     "collapsed": false,
     "input": [
      "num_groups"
     ],
     "language": "python",
     "metadata": {},
     "outputs": [
      {
       "html": [
        "<div style=\"max-height:1000px;max-width:1500px;overflow:auto;\">\n",
        "<table border=\"1\" class=\"dataframe\">\n",
        "  <thead>\n",
        "    <tr style=\"text-align: right;\">\n",
        "      <th></th>\n",
        "      <th>0</th>\n",
        "      <th>1</th>\n",
        "    </tr>\n",
        "  </thead>\n",
        "  <tbody>\n",
        "    <tr>\n",
        "      <th>0</th>\n",
        "      <td> 8</td>\n",
        "      <td> 18</td>\n",
        "    </tr>\n",
        "    <tr>\n",
        "      <th>1</th>\n",
        "      <td> 7</td>\n",
        "      <td> 19</td>\n",
        "    </tr>\n",
        "    <tr>\n",
        "      <th>2</th>\n",
        "      <td> 6</td>\n",
        "      <td> 21</td>\n",
        "    </tr>\n",
        "    <tr>\n",
        "      <th>3</th>\n",
        "      <td> 5</td>\n",
        "      <td> 21</td>\n",
        "    </tr>\n",
        "    <tr>\n",
        "      <th>4</th>\n",
        "      <td> 4</td>\n",
        "      <td> 22</td>\n",
        "    </tr>\n",
        "    <tr>\n",
        "      <th>5</th>\n",
        "      <td> 3</td>\n",
        "      <td> 21</td>\n",
        "    </tr>\n",
        "    <tr>\n",
        "      <th>6</th>\n",
        "      <td> 2</td>\n",
        "      <td> 24</td>\n",
        "    </tr>\n",
        "    <tr>\n",
        "      <th>7</th>\n",
        "      <td> 1</td>\n",
        "      <td> 17</td>\n",
        "    </tr>\n",
        "    <tr>\n",
        "      <th>8</th>\n",
        "      <td> 9</td>\n",
        "      <td> 14</td>\n",
        "    </tr>\n",
        "  </tbody>\n",
        "</table>\n",
        "<p>9 rows \u00d7 2 columns</p>\n",
        "</div>"
       ],
       "metadata": {},
       "output_type": "pyout",
       "prompt_number": 494,
       "text": [
        "   0   1\n",
        "0  8  18\n",
        "1  7  19\n",
        "2  6  21\n",
        "3  5  21\n",
        "4  4  22\n",
        "5  3  21\n",
        "6  2  24\n",
        "7  1  17\n",
        "8  9  14\n",
        "\n",
        "[9 rows x 2 columns]"
       ]
      }
     ],
     "prompt_number": 494
    },
    {
     "cell_type": "code",
     "collapsed": false,
     "input": [
      "groups_concat.to_csv('groups_concat50.cvs')"
     ],
     "language": "python",
     "metadata": {},
     "outputs": [],
     "prompt_number": 495
    },
    {
     "cell_type": "code",
     "collapsed": false,
     "input": [],
     "language": "python",
     "metadata": {},
     "outputs": []
    }
   ],
   "metadata": {}
  }
 ]
}