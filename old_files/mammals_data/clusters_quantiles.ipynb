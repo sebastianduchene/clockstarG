{
 "metadata": {
  "name": "",
  "signature": "sha256:464b01a0612a33ecc1edcc76f7003f5cdc8d26a77c8da4cfcf48878a72c85c30"
 },
 "nbformat": 3,
 "nbformat_minor": 0,
 "worksheets": [
  {
   "cells": [
    {
     "cell_type": "code",
     "collapsed": false,
     "input": [
      "import pandas as pd\n",
      "import numpy as np\n",
      "import matplotlib.pyplot as plt\n",
      "import sys, os, re, subprocess"
     ],
     "language": "python",
     "metadata": {},
     "outputs": [],
     "prompt_number": 1
    },
    {
     "cell_type": "code",
     "collapsed": false,
     "input": [
      "dat = pd.read_csv('classification_data.csv', index_col=0)"
     ],
     "language": "python",
     "metadata": {},
     "outputs": [],
     "prompt_number": 35
    },
    {
     "cell_type": "code",
     "collapsed": false,
     "input": [
      "dat.head()\n"
     ],
     "language": "python",
     "metadata": {},
     "outputs": [
      {
       "html": [
        "<div style=\"max-height:1000px;max-width:1500px;overflow:auto;\">\n",
        "<table border=\"1\" class=\"dataframe\">\n",
        "  <thead>\n",
        "    <tr style=\"text-align: right;\">\n",
        "      <th></th>\n",
        "      <th>length</th>\n",
        "      <th>A</th>\n",
        "      <th>C</th>\n",
        "      <th>G</th>\n",
        "      <th>T</th>\n",
        "      <th>cluster</th>\n",
        "      <th>chromosome</th>\n",
        "      <th>gene_name</th>\n",
        "      <th>tree_length</th>\n",
        "      <th>tree_cv</th>\n",
        "      <th>cg_content</th>\n",
        "    </tr>\n",
        "  </thead>\n",
        "  <tbody>\n",
        "    <tr>\n",
        "      <th>gene1.fasta</th>\n",
        "      <td> 5794</td>\n",
        "      <td> 0.268250</td>\n",
        "      <td> 0.269508</td>\n",
        "      <td> 0.252531</td>\n",
        "      <td> 0.209711</td>\n",
        "      <td> CLUSTER1</td>\n",
        "      <td> 14</td>\n",
        "      <td> SIPA1L1</td>\n",
        "      <td> 1.485098</td>\n",
        "      <td> 0.993081</td>\n",
        "      <td> 0.973045</td>\n",
        "    </tr>\n",
        "    <tr>\n",
        "      <th>gene10.fasta</th>\n",
        "      <td> 2175</td>\n",
        "      <td> 0.268476</td>\n",
        "      <td> 0.224594</td>\n",
        "      <td> 0.254347</td>\n",
        "      <td> 0.252583</td>\n",
        "      <td> CLUSTER2</td>\n",
        "      <td>  9</td>\n",
        "      <td>     GNE</td>\n",
        "      <td> 1.123666</td>\n",
        "      <td> 0.986122</td>\n",
        "      <td> 0.891962</td>\n",
        "    </tr>\n",
        "    <tr>\n",
        "      <th>gene100.fasta</th>\n",
        "      <td> 1908</td>\n",
        "      <td> 0.300454</td>\n",
        "      <td> 0.238527</td>\n",
        "      <td> 0.258440</td>\n",
        "      <td> 0.202579</td>\n",
        "      <td> CLUSTER3</td>\n",
        "      <td>  3</td>\n",
        "      <td>   PEX5L</td>\n",
        "      <td> 1.190232</td>\n",
        "      <td> 0.920258</td>\n",
        "      <td> 0.827026</td>\n",
        "    </tr>\n",
        "    <tr>\n",
        "      <th>gene101.fasta</th>\n",
        "      <td> 1540</td>\n",
        "      <td> 0.306386</td>\n",
        "      <td> 0.210569</td>\n",
        "      <td> 0.232906</td>\n",
        "      <td> 0.250139</td>\n",
        "      <td> CLUSTER4</td>\n",
        "      <td>  6</td>\n",
        "      <td>   Tinag</td>\n",
        "      <td> 1.855120</td>\n",
        "      <td> 1.107489</td>\n",
        "      <td> 0.723719</td>\n",
        "    </tr>\n",
        "    <tr>\n",
        "      <th>gene102.fasta</th>\n",
        "      <td> 2031</td>\n",
        "      <td> 0.310656</td>\n",
        "      <td> 0.198478</td>\n",
        "      <td> 0.237539</td>\n",
        "      <td> 0.253326</td>\n",
        "      <td> CLUSTER2</td>\n",
        "      <td>  1</td>\n",
        "      <td> DYNC1I2</td>\n",
        "      <td> 0.815587</td>\n",
        "      <td> 1.013724</td>\n",
        "      <td> 0.701768</td>\n",
        "    </tr>\n",
        "  </tbody>\n",
        "</table>\n",
        "</div>"
       ],
       "metadata": {},
       "output_type": "pyout",
       "prompt_number": 36,
       "text": [
        "               length         A         C         G         T   cluster  \\\n",
        "gene1.fasta      5794  0.268250  0.269508  0.252531  0.209711  CLUSTER1   \n",
        "gene10.fasta     2175  0.268476  0.224594  0.254347  0.252583  CLUSTER2   \n",
        "gene100.fasta    1908  0.300454  0.238527  0.258440  0.202579  CLUSTER3   \n",
        "gene101.fasta    1540  0.306386  0.210569  0.232906  0.250139  CLUSTER4   \n",
        "gene102.fasta    2031  0.310656  0.198478  0.237539  0.253326  CLUSTER2   \n",
        "\n",
        "               chromosome gene_name  tree_length   tree_cv  cg_content  \n",
        "gene1.fasta            14   SIPA1L1     1.485098  0.993081    0.973045  \n",
        "gene10.fasta            9       GNE     1.123666  0.986122    0.891962  \n",
        "gene100.fasta           3     PEX5L     1.190232  0.920258    0.827026  \n",
        "gene101.fasta           6     Tinag     1.855120  1.107489    0.723719  \n",
        "gene102.fasta           1   DYNC1I2     0.815587  1.013724    0.701768  "
       ]
      }
     ],
     "prompt_number": 36
    },
    {
     "cell_type": "code",
     "collapsed": false,
     "input": [
      "print min(dat.ix[:, 'tree_length']), max(dat.ix[:, 'tree_length'])"
     ],
     "language": "python",
     "metadata": {},
     "outputs": [
      {
       "output_type": "stream",
       "stream": "stdout",
       "text": [
        "0.569017226141 3.29438631802\n"
       ]
      }
     ],
     "prompt_number": 93
    },
    {
     "cell_type": "code",
     "collapsed": false,
     "input": [
      "tree_quantiles = pd.qcut(dat.ix[:,'tree_length'], 5, labels= range(5))"
     ],
     "language": "python",
     "metadata": {},
     "outputs": [],
     "prompt_number": 126
    },
    {
     "cell_type": "code",
     "collapsed": false,
     "input": [
      "tree_quantiles[1:10]"
     ],
     "language": "python",
     "metadata": {},
     "outputs": [
      {
       "metadata": {},
       "output_type": "pyout",
       "prompt_number": 127,
       "text": [
        "Categorical: \n",
        "[0, 1, 3, 0, 0, 3, 0, 4, 0]\n",
        "Levels (5): Int64Index([0, 1, 2, 3, 4])"
       ]
      }
     ],
     "prompt_number": 127
    },
    {
     "cell_type": "code",
     "collapsed": false,
     "input": [
      "tree_quantiles = [str(i) for i in tree_quantiles]"
     ],
     "language": "python",
     "metadata": {},
     "outputs": [],
     "prompt_number": 128
    },
    {
     "cell_type": "code",
     "collapsed": false,
     "input": [
      "tree_quantiles = pd.DataFrame(tree_quantiles, index = dat.index)"
     ],
     "language": "python",
     "metadata": {},
     "outputs": [],
     "prompt_number": 129
    },
    {
     "cell_type": "code",
     "collapsed": false,
     "input": [
      "dat_concat = pd.concat([dat, tree_quantiles], axis = 1)"
     ],
     "language": "python",
     "metadata": {},
     "outputs": [],
     "prompt_number": 130
    },
    {
     "cell_type": "code",
     "collapsed": false,
     "input": [
      "dat_sorted = dat_concat.sort(column = 'tree_length', ascending=False)"
     ],
     "language": "python",
     "metadata": {},
     "outputs": [],
     "prompt_number": 131
    },
    {
     "cell_type": "code",
     "collapsed": false,
     "input": [
      "dat_sorted_narm = dat_concat.ix[[not(isnan(i)) for i in dat_concat.ix[:, 'tree_length']], :]"
     ],
     "language": "python",
     "metadata": {},
     "outputs": [],
     "prompt_number": 132
    },
    {
     "cell_type": "code",
     "collapsed": false,
     "input": [
      "dat_sorted_narm.shape"
     ],
     "language": "python",
     "metadata": {},
     "outputs": [
      {
       "metadata": {},
       "output_type": "pyout",
       "prompt_number": 133,
       "text": [
        "(431, 12)"
       ]
      }
     ],
     "prompt_number": 133
    },
    {
     "cell_type": "code",
     "collapsed": false,
     "input": [
      "tree_quantiles_id = dat_sorted_narm.ix[:, -1].value_counts().index"
     ],
     "language": "python",
     "metadata": {},
     "outputs": [],
     "prompt_number": 134
    },
    {
     "cell_type": "code",
     "collapsed": true,
     "input": [
      "for i in tree_quantiles_id:\n",
      "    print len(dat_sorted_narm.ix[dat_sorted_narm.ix[:, 11] == i, 'cluster'].value_counts())"
     ],
     "language": "python",
     "metadata": {},
     "outputs": [
      {
       "output_type": "stream",
       "stream": "stdout",
       "text": [
        "8\n",
        "7\n",
        "7\n",
        "8\n",
        "6\n"
       ]
      }
     ],
     "prompt_number": 135
    },
    {
     "cell_type": "code",
     "collapsed": false,
     "input": [],
     "language": "python",
     "metadata": {},
     "outputs": [],
     "prompt_number": 135
    },
    {
     "cell_type": "code",
     "collapsed": false,
     "input": [],
     "language": "python",
     "metadata": {},
     "outputs": [],
     "prompt_number": 135
    },
    {
     "cell_type": "code",
     "collapsed": false,
     "input": [],
     "language": "python",
     "metadata": {},
     "outputs": []
    }
   ],
   "metadata": {}
  }
 ]
}