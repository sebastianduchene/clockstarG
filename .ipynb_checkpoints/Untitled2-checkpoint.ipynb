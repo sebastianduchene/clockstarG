{
 "metadata": {
  "name": "",
  "signature": "sha256:247d4d0cb9eab34121231ad60680882cc0a07e806914c26a1e15089e92251b7e"
 },
 "nbformat": 3,
 "nbformat_minor": 0,
 "worksheets": [
  {
   "cells": [
    {
     "cell_type": "code",
     "collapsed": false,
     "input": [
      "import pandas as pd\n",
      "import numpy as np\n",
      "import matplotlib.pyplot as plt\n",
      "import sys, os, re, subprocess"
     ],
     "language": "python",
     "metadata": {},
     "outputs": [],
     "prompt_number": 1
    },
    {
     "cell_type": "code",
     "collapsed": false,
     "input": [
      "dat = pd.read_csv('classification_data.csv', index_col=0)"
     ],
     "language": "python",
     "metadata": {},
     "outputs": [],
     "prompt_number": 7
    },
    {
     "cell_type": "code",
     "collapsed": false,
     "input": [
      "dat.head()\n"
     ],
     "language": "python",
     "metadata": {},
     "outputs": [
      {
       "html": [
        "<div style=\"max-height:1000px;max-width:1500px;overflow:auto;\">\n",
        "<table border=\"1\" class=\"dataframe\">\n",
        "  <thead>\n",
        "    <tr style=\"text-align: right;\">\n",
        "      <th></th>\n",
        "      <th>length</th>\n",
        "      <th>A</th>\n",
        "      <th>C</th>\n",
        "      <th>G</th>\n",
        "      <th>T</th>\n",
        "      <th>cluster</th>\n",
        "      <th>chromosome</th>\n",
        "      <th>gene_name</th>\n",
        "      <th>tree_length</th>\n",
        "      <th>tree_cv</th>\n",
        "      <th>cg_content</th>\n",
        "    </tr>\n",
        "  </thead>\n",
        "  <tbody>\n",
        "    <tr>\n",
        "      <th>gene1.fasta</th>\n",
        "      <td> 5794</td>\n",
        "      <td> 0.268250</td>\n",
        "      <td> 0.269508</td>\n",
        "      <td> 0.252531</td>\n",
        "      <td> 0.209711</td>\n",
        "      <td> CLUSTER1</td>\n",
        "      <td> 14</td>\n",
        "      <td> SIPA1L1</td>\n",
        "      <td> 1.485098</td>\n",
        "      <td> 0.993081</td>\n",
        "      <td> 0.973045</td>\n",
        "    </tr>\n",
        "    <tr>\n",
        "      <th>gene10.fasta</th>\n",
        "      <td> 2175</td>\n",
        "      <td> 0.268476</td>\n",
        "      <td> 0.224594</td>\n",
        "      <td> 0.254347</td>\n",
        "      <td> 0.252583</td>\n",
        "      <td> CLUSTER2</td>\n",
        "      <td>  9</td>\n",
        "      <td>     GNE</td>\n",
        "      <td> 1.123666</td>\n",
        "      <td> 0.986122</td>\n",
        "      <td> 0.891962</td>\n",
        "    </tr>\n",
        "    <tr>\n",
        "      <th>gene100.fasta</th>\n",
        "      <td> 1908</td>\n",
        "      <td> 0.300454</td>\n",
        "      <td> 0.238527</td>\n",
        "      <td> 0.258440</td>\n",
        "      <td> 0.202579</td>\n",
        "      <td> CLUSTER3</td>\n",
        "      <td>  3</td>\n",
        "      <td>   PEX5L</td>\n",
        "      <td> 1.190232</td>\n",
        "      <td> 0.920258</td>\n",
        "      <td> 0.827026</td>\n",
        "    </tr>\n",
        "    <tr>\n",
        "      <th>gene101.fasta</th>\n",
        "      <td> 1540</td>\n",
        "      <td> 0.306386</td>\n",
        "      <td> 0.210569</td>\n",
        "      <td> 0.232906</td>\n",
        "      <td> 0.250139</td>\n",
        "      <td> CLUSTER4</td>\n",
        "      <td>  6</td>\n",
        "      <td>   Tinag</td>\n",
        "      <td> 1.855120</td>\n",
        "      <td> 1.107489</td>\n",
        "      <td> 0.723719</td>\n",
        "    </tr>\n",
        "    <tr>\n",
        "      <th>gene102.fasta</th>\n",
        "      <td> 2031</td>\n",
        "      <td> 0.310656</td>\n",
        "      <td> 0.198478</td>\n",
        "      <td> 0.237539</td>\n",
        "      <td> 0.253326</td>\n",
        "      <td> CLUSTER2</td>\n",
        "      <td>  1</td>\n",
        "      <td> DYNC1I2</td>\n",
        "      <td> 0.815587</td>\n",
        "      <td> 1.013724</td>\n",
        "      <td> 0.701768</td>\n",
        "    </tr>\n",
        "  </tbody>\n",
        "</table>\n",
        "</div>"
       ],
       "metadata": {},
       "output_type": "pyout",
       "prompt_number": 8,
       "text": [
        "               length         A         C         G         T   cluster  \\\n",
        "gene1.fasta      5794  0.268250  0.269508  0.252531  0.209711  CLUSTER1   \n",
        "gene10.fasta     2175  0.268476  0.224594  0.254347  0.252583  CLUSTER2   \n",
        "gene100.fasta    1908  0.300454  0.238527  0.258440  0.202579  CLUSTER3   \n",
        "gene101.fasta    1540  0.306386  0.210569  0.232906  0.250139  CLUSTER4   \n",
        "gene102.fasta    2031  0.310656  0.198478  0.237539  0.253326  CLUSTER2   \n",
        "\n",
        "               chromosome gene_name  tree_length   tree_cv  cg_content  \n",
        "gene1.fasta            14   SIPA1L1     1.485098  0.993081    0.973045  \n",
        "gene10.fasta            9       GNE     1.123666  0.986122    0.891962  \n",
        "gene100.fasta           3     PEX5L     1.190232  0.920258    0.827026  \n",
        "gene101.fasta           6     Tinag     1.855120  1.107489    0.723719  \n",
        "gene102.fasta           1   DYNC1I2     0.815587  1.013724    0.701768  "
       ]
      }
     ],
     "prompt_number": 8
    },
    {
     "cell_type": "code",
     "collapsed": false,
     "input": [
      "print min(dat.ix[:, 'tree_length']), max(dat.ix[:, 'tree_length'])"
     ],
     "language": "python",
     "metadata": {},
     "outputs": [
      {
       "output_type": "stream",
       "stream": "stdout",
       "text": [
        "0.569017226141 3.29438631802\n"
       ]
      }
     ],
     "prompt_number": 72
    },
    {
     "cell_type": "code",
     "collapsed": false,
     "input": [
      "tree_quantiles = pd.qcut(dat.ix[:,'tree_length'], 5, labels= range(5))"
     ],
     "language": "python",
     "metadata": {},
     "outputs": [],
     "prompt_number": 272
    },
    {
     "cell_type": "code",
     "collapsed": false,
     "input": [
      "tree_quantiles = [str(i) for i in tree_quantiles]"
     ],
     "language": "python",
     "metadata": {},
     "outputs": [],
     "prompt_number": 273
    },
    {
     "cell_type": "code",
     "collapsed": false,
     "input": [
      "tree_quantiles = pd.DataFrame(tree_quantiles, index = dat.index)"
     ],
     "language": "python",
     "metadata": {},
     "outputs": [],
     "prompt_number": 274
    },
    {
     "cell_type": "code",
     "collapsed": false,
     "input": [
      "dat_concat = pd.concat([dat, tree_quantiles], axis = 1)"
     ],
     "language": "python",
     "metadata": {},
     "outputs": [],
     "prompt_number": 275
    },
    {
     "cell_type": "code",
     "collapsed": false,
     "input": [
      "dat_sorted = dat_concat.sort(column = 'tree_length', ascending=False)"
     ],
     "language": "python",
     "metadata": {},
     "outputs": [],
     "prompt_number": 276
    },
    {
     "cell_type": "code",
     "collapsed": false,
     "input": [
      "dat_sorted.ix[range(15, 20),:]"
     ],
     "language": "python",
     "metadata": {},
     "outputs": [
      {
       "html": [
        "<div style=\"max-height:1000px;max-width:1500px;overflow:auto;\">\n",
        "<table border=\"1\" class=\"dataframe\">\n",
        "  <thead>\n",
        "    <tr style=\"text-align: right;\">\n",
        "      <th></th>\n",
        "      <th>length</th>\n",
        "      <th>A</th>\n",
        "      <th>C</th>\n",
        "      <th>G</th>\n",
        "      <th>T</th>\n",
        "      <th>cluster</th>\n",
        "      <th>chromosome</th>\n",
        "      <th>gene_name</th>\n",
        "      <th>tree_length</th>\n",
        "      <th>tree_cv</th>\n",
        "      <th>cg_content</th>\n",
        "      <th>0</th>\n",
        "    </tr>\n",
        "  </thead>\n",
        "  <tbody>\n",
        "    <tr>\n",
        "      <th>gene149.fasta</th>\n",
        "      <td>  NaN</td>\n",
        "      <td> 0.305579</td>\n",
        "      <td> 0.223666</td>\n",
        "      <td> 0.263067</td>\n",
        "      <td> 0.207688</td>\n",
        "      <td>      NaN</td>\n",
        "      <td> 0</td>\n",
        "      <td>     NaN</td>\n",
        "      <td>      NaN</td>\n",
        "      <td>      NaN</td>\n",
        "      <td> 0.796413</td>\n",
        "      <td> nan</td>\n",
        "    </tr>\n",
        "    <tr>\n",
        "      <th>gene257.fasta</th>\n",
        "      <td>  937</td>\n",
        "      <td> 0.249787</td>\n",
        "      <td> 0.246438</td>\n",
        "      <td> 0.207948</td>\n",
        "      <td> 0.295827</td>\n",
        "      <td> CLUSTER3</td>\n",
        "      <td> 6</td>\n",
        "      <td>   ADTRP</td>\n",
        "      <td> 3.294386</td>\n",
        "      <td> 0.920983</td>\n",
        "      <td> 0.909545</td>\n",
        "      <td>   4</td>\n",
        "    </tr>\n",
        "    <tr>\n",
        "      <th>gene378.fasta</th>\n",
        "      <td> 1544</td>\n",
        "      <td> 0.275444</td>\n",
        "      <td> 0.216361</td>\n",
        "      <td> 0.321056</td>\n",
        "      <td> 0.187139</td>\n",
        "      <td> CLUSTER1</td>\n",
        "      <td> 1</td>\n",
        "      <td>    SDE2</td>\n",
        "      <td> 3.125401</td>\n",
        "      <td> 0.983496</td>\n",
        "      <td> 0.975545</td>\n",
        "      <td>   4</td>\n",
        "    </tr>\n",
        "    <tr>\n",
        "      <th>gene39.fasta</th>\n",
        "      <td> 2141</td>\n",
        "      <td> 0.298795</td>\n",
        "      <td> 0.192544</td>\n",
        "      <td> 0.247214</td>\n",
        "      <td> 0.261446</td>\n",
        "      <td> CLUSTER6</td>\n",
        "      <td> 4</td>\n",
        "      <td>     CFI</td>\n",
        "      <td> 3.022435</td>\n",
        "      <td> 0.974525</td>\n",
        "      <td> 0.735886</td>\n",
        "      <td>   4</td>\n",
        "    </tr>\n",
        "    <tr>\n",
        "      <th>gene138.fasta</th>\n",
        "      <td> 2947</td>\n",
        "      <td> 0.266809</td>\n",
        "      <td> 0.259003</td>\n",
        "      <td> 0.239235</td>\n",
        "      <td> 0.234953</td>\n",
        "      <td> CLUSTER8</td>\n",
        "      <td> 2</td>\n",
        "      <td> IL12RB2</td>\n",
        "      <td> 2.992892</td>\n",
        "      <td> 1.296117</td>\n",
        "      <td> 0.933699</td>\n",
        "      <td>   4</td>\n",
        "    </tr>\n",
        "  </tbody>\n",
        "</table>\n",
        "</div>"
       ],
       "metadata": {},
       "output_type": "pyout",
       "prompt_number": 277,
       "text": [
        "               length         A         C         G         T   cluster  \\\n",
        "gene149.fasta     NaN  0.305579  0.223666  0.263067  0.207688       NaN   \n",
        "gene257.fasta     937  0.249787  0.246438  0.207948  0.295827  CLUSTER3   \n",
        "gene378.fasta    1544  0.275444  0.216361  0.321056  0.187139  CLUSTER1   \n",
        "gene39.fasta     2141  0.298795  0.192544  0.247214  0.261446  CLUSTER6   \n",
        "gene138.fasta    2947  0.266809  0.259003  0.239235  0.234953  CLUSTER8   \n",
        "\n",
        "               chromosome gene_name  tree_length   tree_cv  cg_content    0  \n",
        "gene149.fasta           0       NaN          NaN       NaN    0.796413  nan  \n",
        "gene257.fasta           6     ADTRP     3.294386  0.920983    0.909545    4  \n",
        "gene378.fasta           1      SDE2     3.125401  0.983496    0.975545    4  \n",
        "gene39.fasta            4       CFI     3.022435  0.974525    0.735886    4  \n",
        "gene138.fasta           2   IL12RB2     2.992892  1.296117    0.933699    4  "
       ]
      }
     ],
     "prompt_number": 277
    },
    {
     "cell_type": "code",
     "collapsed": false,
     "input": [
      "tree_quantiles_id = dat_concat.ix[:, -1].value_counts().index"
     ],
     "language": "python",
     "metadata": {},
     "outputs": [],
     "prompt_number": 278
    },
    {
     "cell_type": "code",
     "collapsed": true,
     "input": [
      "for i in tree_quantiles_id:\n",
      "    print len(dat_concat.ix[dat_concat.ix[:, 11] == i, 'cluster'].value_counts())"
     ],
     "language": "python",
     "metadata": {},
     "outputs": [
      {
       "output_type": "stream",
       "stream": "stdout",
       "text": [
        "8\n",
        "7\n",
        "7\n",
        "8\n",
        "6\n",
        "0\n"
       ]
      }
     ],
     "prompt_number": 279
    },
    {
     "cell_type": "code",
     "collapsed": false,
     "input": [],
     "language": "python",
     "metadata": {},
     "outputs": [],
     "prompt_number": 174
    },
    {
     "cell_type": "code",
     "collapsed": false,
     "input": [],
     "language": "python",
     "metadata": {},
     "outputs": []
    }
   ],
   "metadata": {}
  }
 ]
}